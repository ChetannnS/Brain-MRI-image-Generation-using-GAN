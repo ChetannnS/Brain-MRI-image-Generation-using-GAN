{
 "cells": [
  {
   "cell_type": "code",
   "execution_count": 1,
   "metadata": {},
   "outputs": [
    {
     "name": "stdout",
     "output_type": "stream",
     "text": [
      "Class folders created successfully!\n"
     ]
    }
   ],
   "source": [
    "import os\n",
    "import glob\n",
    "\n",
    "# Define the source directory containing JPG files\n",
    "source_directory = r'C:\\Users\\asus\\Desktop\\GNDs MRI\\archive\\GAN-Traning Images'\n",
    "# Define the target directory where class folders will be created\n",
    "target_directory = 'dataset'\n",
    "\n",
    "# Get all JPG files in the source directory\n",
    "jpg_files = glob.glob(os.path.join(source_directory, '*.jpg'))\n",
    "\n",
    "# Dictionary to keep track of class folders\n",
    "class_folders = {}\n",
    "\n",
    "# Process each JPG file\n",
    "for image_file in jpg_files:\n",
    "    # Extract the filename without the path\n",
    "    filename = os.path.basename(image_file)\n",
    "    \n",
    "    # Assuming the class label is the first part of the filename before an underscore\n",
    "    class_label = filename.split('_')[0]  # e.g., 'cat' from 'cat_001.jpg'\n",
    "    \n",
    "    # Create a folder for the class label if it doesn't exist\n",
    "    if class_label not in class_folders:\n",
    "        class_folder = os.path.join(target_directory, class_label)\n",
    "        os.makedirs(class_folder, exist_ok=True)\n",
    "        class_folders[class_label] = class_folder\n",
    "    \n",
    "    # Define destination path\n",
    "    dst_path = os.path.join(class_folder, filename)\n",
    "    \n",
    "    # Move the file to the appropriate class folder\n",
    "    os.rename(image_file, dst_path)\n",
    "\n",
    "print(\"Class folders created successfully!\")"
   ]
  },
  {
   "cell_type": "code",
   "execution_count": null,
   "metadata": {},
   "outputs": [],
   "source": []
  }
 ],
 "metadata": {
  "kernelspec": {
   "display_name": "Python 3",
   "language": "python",
   "name": "python3"
  },
  "language_info": {
   "codemirror_mode": {
    "name": "ipython",
    "version": 3
   },
   "file_extension": ".py",
   "mimetype": "text/x-python",
   "name": "python",
   "nbconvert_exporter": "python",
   "pygments_lexer": "ipython3",
   "version": "3.12.4"
  }
 },
 "nbformat": 4,
 "nbformat_minor": 2
}
